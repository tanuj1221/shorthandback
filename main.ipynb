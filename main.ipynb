{
 "cells": [
  {
   "cell_type": "code",
   "execution_count": 1,
   "metadata": {},
   "outputs": [
    {
     "name": "stderr",
     "output_type": "stream",
     "text": [
      "C:\\Users\\Tanuj\\AppData\\Local\\Temp\\ipykernel_13572\\1760577524.py:1: DeprecationWarning: \n",
      "Pyarrow will become a required dependency of pandas in the next major release of pandas (pandas 3.0),\n",
      "(to allow more performant data types, such as the Arrow string type, and better interoperability with other libraries)\n",
      "but was not found to be installed on your system.\n",
      "If this would cause problems for you,\n",
      "please provide us feedback at https://github.com/pandas-dev/pandas/issues/54466\n",
      "        \n",
      "  import pandas as pd\n"
     ]
    },
    {
     "data": {
      "text/plain": [
       "Index(['student_id', 'password', 'instituteId', 'batchNo', 'batchStartDate',\n",
       "       'batchEndDate', 'firstName', 'lastName', 'motherName', 'middleName',\n",
       "       'subjectsId', 'amount', 'courseId', 'batch_year', 'loggedin',\n",
       "       'rem_time', 'done', 'sem', 'mobile_no', 'email', 'PHOTO',\n",
       "       'examCenterCode'],\n",
       "      dtype='object')"
      ]
     },
     "execution_count": 1,
     "metadata": {},
     "output_type": "execute_result"
    }
   ],
   "source": [
    "import pandas as pd\n",
    "df = pd.read_csv('finalstu.csv')\n",
    "df.columns"
   ]
  },
  {
   "cell_type": "code",
   "execution_count": null,
   "metadata": {},
   "outputs": [],
   "source": [
    "'student_id', 'password', 'instituteId', 'batchNo', 'batchStartDate',\n",
    "       'batchEndDate', 'firstName', 'lastName', 'motherName', 'middleName',\n",
    "       'subjectsId', 'amount', 'courseId', 'batch_year', 'loggedin',\n",
    "       'rem_time', 'done', 'sem', 'mobile_no', 'email', 'PHOTO',\n",
    "       'examCenterCode''subjectId' ,'courseId'\t,'subject_name'\t,'subject_name_short',\t'Daily_Timer'\t,'Passage_Timer',\t'Demo_Timer'"
   ]
  },
  {
   "cell_type": "code",
   "execution_count": 7,
   "metadata": {},
   "outputs": [
    {
     "name": "stdout",
     "output_type": "stream",
     "text": [
      "Total number of rows in audiologs is:  1\n",
      "\n",
      "Printing each audio log record\n",
      "{'id': 1, 'student_id': '1051001', 'center': '1051', 'loginTime': datetime.datetime(2024, 6, 26, 1, 23, 42), 'login': 'logged in', 'trial_time': '2024-06-26 01:24:04', 'audio1_time': '2024-06-26 01:24:15', 'passage1_time': '2024-06-26 01:24:44', 'audio2_time': None, 'passage2_time': None, 'feedback_time': None}\n",
      "MySQL connection is closed\n"
     ]
    }
   ],
   "source": [
    "import mysql.connector\n",
    "from mysql.connector import Error\n",
    "\n",
    "def get_audio_logs():\n",
    "    try:\n",
    "        # Update these variables with your database connection details\n",
    "        connection = mysql.connector.connect(\n",
    "            host='localhost',\n",
    "            database='shorthandExam2024',\n",
    "            user='root',\n",
    "            password='tanuj1221'\n",
    "        )\n",
    "\n",
    "        if connection.is_connected():\n",
    "            cursor = connection.cursor(dictionary=True)\n",
    "            cursor.execute(\"SELECT * FROM studntslogs\")\n",
    "            records = cursor.fetchall()\n",
    "\n",
    "            print(\"Total number of rows in audiologs is: \", cursor.rowcount)\n",
    "            print(\"\\nPrinting each audio log record\")\n",
    "\n",
    "            for row in records:\n",
    "               print(row)\n",
    "\n",
    "    except Error as e:\n",
    "        print(\"Error while connecting to MySQL\", e)\n",
    "    finally:\n",
    "        if connection.is_connected():\n",
    "            cursor.close()\n",
    "            connection.close()\n",
    "            print(\"MySQL connection is closed\")\n",
    "\n",
    "if __name__ == \"__main__\":\n",
    "    get_audio_logs()"
   ]
  },
  {
   "cell_type": "code",
   "execution_count": null,
   "metadata": {},
   "outputs": [],
   "source": [
    "import mysql.connector\n",
    "from mysql.connector import Error\n",
    "\n",
    "def get_audio_logs():\n",
    "    try:\n",
    "        # Update these variables with your database connection details\n",
    "        connection = mysql.connector.connect(\n",
    "            host='localhost',\n",
    "            database='shorthandExam2024',\n",
    "            user='root',\n",
    "            password='tanuj1221'\n",
    "        )\n",
    "\n",
    "        if connection.is_connected():\n",
    "            cursor = connection.cursor(dictionary=True)\n",
    "            cursor.execute(\"SELECT * FROM audiologs\")\n",
    "            records = cursor.fetchall()\n",
    "\n",
    "            print(\"Total number of rows in audiologs is: \", cursor.rowcount)\n",
    "            print(\"\\nPrinting each audio log record\")\n",
    "\n",
    "            for row in records:\n",
    "                print(f\"student_id: {row['student_id']}, passageA: {row.get('passageA')}, trial: {row.get('trial')}, passageB: {row.get('passageB')}\")\n",
    "\n",
    "    except Error as e:\n",
    "        print(\"Error while connecting to MySQL\", e)\n",
    "    finally:\n",
    "        if connection.is_connected():\n",
    "            cursor.close()\n",
    "            connection.close()\n",
    "            print(\"MySQL connection is closed\")\n",
    "\n",
    "if __name__ == \"__main__\":\n",
    "    get_audio_logs()"
   ]
  }
 ],
 "metadata": {
  "kernelspec": {
   "display_name": "Python 3",
   "language": "python",
   "name": "python3"
  },
  "language_info": {
   "codemirror_mode": {
    "name": "ipython",
    "version": 3
   },
   "file_extension": ".py",
   "mimetype": "text/x-python",
   "name": "python",
   "nbconvert_exporter": "python",
   "pygments_lexer": "ipython3",
   "version": "3.9.0"
  }
 },
 "nbformat": 4,
 "nbformat_minor": 2
}
